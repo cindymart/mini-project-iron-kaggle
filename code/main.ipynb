{
 "cells": [
  {
   "cell_type": "markdown",
   "metadata": {},
   "source": [
    "Importar Data"
   ]
  },
  {
   "cell_type": "code",
   "execution_count": 14,
   "metadata": {},
   "outputs": [],
   "source": [
    "# Import your libraries:\n",
    "%matplotlib inline\n",
    "\n",
    "import numpy as np\n",
    "import pandas as pd\n",
    "import seaborn as sns\n",
    "import matplotlib.pyplot as plt\n",
    "import xgboost as xgb\n",
    "import warnings\n",
    "\n",
    "from sklearn.model_selection import train_test_split\n",
    "from sklearn.linear_model import LinearRegression\n",
    "from sklearn.metrics import mean_squared_error, r2_score, mean_absolute_error\n",
    "from sklearn.ensemble import RandomForestRegressor\n",
    "\n",
    "warnings.filterwarnings('ignore')\n",
    "\n",
    "salesDF = pd.read_csv('../data/sales.csv', index_col=0)\n",
    "\n"
   ]
  },
  {
   "cell_type": "markdown",
   "metadata": {},
   "source": [
    "Entender el dataset"
   ]
  },
  {
   "cell_type": "code",
   "execution_count": 15,
   "metadata": {},
   "outputs": [
    {
     "name": "stdout",
     "output_type": "stream",
     "text": [
      "Información básica del dataset:\n",
      "\n",
      "Dimensiones del dataset: (640840, 9)\n",
      "\n",
      "Columnas disponibles:\n",
      "['store_ID', 'day_of_week', 'date', 'nb_customers_on_day', 'open', 'promotion', 'state_holiday', 'school_holiday', 'sales']\n",
      "\n",
      "Información de tipos de datos y valores nulos:\n",
      "<class 'pandas.core.frame.DataFrame'>\n",
      "Index: 640840 entries, 425390 to 305711\n",
      "Data columns (total 9 columns):\n",
      " #   Column               Non-Null Count   Dtype \n",
      "---  ------               --------------   ----- \n",
      " 0   store_ID             640840 non-null  int64 \n",
      " 1   day_of_week          640840 non-null  int64 \n",
      " 2   date                 640840 non-null  object\n",
      " 3   nb_customers_on_day  640840 non-null  int64 \n",
      " 4   open                 640840 non-null  int64 \n",
      " 5   promotion            640840 non-null  int64 \n",
      " 6   state_holiday        640840 non-null  object\n",
      " 7   school_holiday       640840 non-null  int64 \n",
      " 8   sales                640840 non-null  int64 \n",
      "dtypes: int64(7), object(2)\n",
      "memory usage: 48.9+ MB\n",
      "None\n",
      "\n",
      "Estadísticas descriptivas:\n",
      "            store_ID    day_of_week  nb_customers_on_day           open  \\\n",
      "count  640840.000000  640840.000000        640840.000000  640840.000000   \n",
      "mean      558.211348       4.000189           633.398577       0.830185   \n",
      "std       321.878521       1.996478           464.094416       0.375470   \n",
      "min         1.000000       1.000000             0.000000       0.000000   \n",
      "25%       280.000000       2.000000           405.000000       1.000000   \n",
      "50%       558.000000       4.000000           609.000000       1.000000   \n",
      "75%       837.000000       6.000000           838.000000       1.000000   \n",
      "max      1115.000000       7.000000          5458.000000       1.000000   \n",
      "\n",
      "           promotion  school_holiday          sales  \n",
      "count  640840.000000   640840.000000  640840.000000  \n",
      "mean        0.381718        0.178472    5777.469011  \n",
      "std         0.485808        0.382910    3851.338083  \n",
      "min         0.000000        0.000000       0.000000  \n",
      "25%         0.000000        0.000000    3731.000000  \n",
      "50%         0.000000        0.000000    5746.000000  \n",
      "75%         1.000000        0.000000    7860.000000  \n",
      "max         1.000000        1.000000   41551.000000  \n",
      "\n",
      "Valores únicos en columnas categóricas:\n",
      "\n",
      "store_ID:\n",
      "store_ID\n",
      "1045    645\n",
      "309     636\n",
      "754     635\n",
      "432     634\n",
      "286     634\n",
      "       ... \n",
      "1004    448\n",
      "287     448\n",
      "1065    445\n",
      "81      438\n",
      "542     436\n",
      "Name: count, Length: 1115, dtype: int64\n",
      "\n",
      "day_of_week:\n",
      "day_of_week\n",
      "5    92138\n",
      "4    91972\n",
      "2    91686\n",
      "3    91651\n",
      "6    91347\n",
      "7    91075\n",
      "1    90971\n",
      "Name: count, dtype: int64\n",
      "\n",
      "open:\n",
      "open\n",
      "1    532016\n",
      "0    108824\n",
      "Name: count, dtype: int64\n",
      "\n",
      "date:\n",
      "date\n",
      "2015-05-10    756\n",
      "2014-05-23    746\n",
      "2014-02-20    745\n",
      "2014-05-22    741\n",
      "2014-03-21    740\n",
      "             ... \n",
      "2014-10-20    562\n",
      "2014-09-11    561\n",
      "2014-12-09    561\n",
      "2014-09-27    559\n",
      "2014-08-17    558\n",
      "Name: count, Length: 942, dtype: int64\n",
      "\n",
      "promotion:\n",
      "promotion\n",
      "0    396220\n",
      "1    244620\n",
      "Name: count, dtype: int64\n",
      "\n",
      "state_holiday:\n",
      "state_holiday\n",
      "0    621160\n",
      "a     12842\n",
      "b      4214\n",
      "c      2624\n",
      "Name: count, dtype: int64\n",
      "\n",
      "school_holiday:\n",
      "school_holiday\n",
      "0    526468\n",
      "1    114372\n",
      "Name: count, dtype: int64\n",
      "\n",
      "Número de outliers en ventas: 16821\n"
     ]
    }
   ],
   "source": [
    "# Análisis exploratorio inicial\n",
    "print(\"Información básica del dataset:\")\n",
    "print(\"\\nDimensiones del dataset:\", salesDF.shape)\n",
    "print(\"\\nColumnas disponibles:\")\n",
    "print(salesDF.columns.tolist())\n",
    "\n",
    "# Analizar tipos de datos y valores nulos\n",
    "print(\"\\nInformación de tipos de datos y valores nulos:\")\n",
    "print(salesDF.info())\n",
    "\n",
    "# Estadísticas descriptivas básicas\n",
    "print(\"\\nEstadísticas descriptivas:\")\n",
    "print(salesDF.describe())\n",
    "\n",
    "# Analizar valores únicos en columnas categóricas\n",
    "print(\"\\nValores únicos en columnas categóricas:\")\n",
    "for col in ['store_ID', 'day_of_week', 'open', 'date', 'promotion', 'state_holiday', 'school_holiday']:\n",
    "    print(f\"\\n{col}:\")\n",
    "    print(salesDF[col].value_counts())\n",
    "\n",
    "\n",
    "# Agregar detección de outliers\n",
    "Q1 = salesDF['sales'].quantile(0.25)\n",
    "Q3 = salesDF['sales'].quantile(0.75)\n",
    "IQR = Q3 - Q1\n",
    "outliers = salesDF[(salesDF['sales'] < (Q1 - 1.5 * IQR)) | (salesDF['sales'] > (Q3 + 1.5 * IQR))]\n",
    "print(\"\\nNúmero de outliers en ventas:\", len(outliers))"
   ]
  },
  {
   "cell_type": "markdown",
   "metadata": {},
   "source": [
    "Ver Matriz de correlacion"
   ]
  },
  {
   "cell_type": "code",
   "execution_count": 16,
   "metadata": {},
   "outputs": [
    {
     "data": {
      "image/png": "[encoded data removed]",
      "text/plain": [
       "<Figure size 1200x800 with 2 Axes>"
      ]
     },
     "metadata": {},
     "output_type": "display_data"
    }
   ],
   "source": [
    "# Crear matriz de correlación usando columnas numéricas\n",
    "correlation_matrix = salesDF.select_dtypes(include=['int64', 'float64']).corr()\n",
    "\n",
    "# Crear heatmap\n",
    "plt.figure(figsize=(12, 8))\n",
    "sns.heatmap(correlation_matrix, annot=True, cmap='coolwarm', center=0)\n",
    "plt.title('Matriz de Correlación de Características')\n",
    "plt.show()\n"
   ]
  },
  {
   "cell_type": "markdown",
   "metadata": {},
   "source": [
    "Eliminacion de valores faltantes"
   ]
  },
  {
   "cell_type": "code",
   "execution_count": 17,
   "metadata": {},
   "outputs": [
    {
     "name": "stdout",
     "output_type": "stream",
     "text": [
      "Número de valores faltantes por columna:\n",
      "store_ID               0\n",
      "day_of_week            0\n",
      "date                   0\n",
      "nb_customers_on_day    0\n",
      "open                   0\n",
      "promotion              0\n",
      "state_holiday          0\n",
      "school_holiday         0\n",
      "sales                  0\n",
      "dtype: int64\n"
     ]
    }
   ],
   "source": [
    "# Challenge 3 - Manejar Valores Faltantes\n",
    "\n",
    "# Examinar valores faltantes\n",
    "print(\"Número de valores faltantes por columna:\")\n",
    "print(salesDF.isnull().sum())\n",
    "\n",
    "# Eliminar filas con valores faltantes\n",
    "sales_cleaned = salesDF.dropna()\n",
    "\n",
    "\n"
   ]
  },
  {
   "cell_type": "markdown",
   "metadata": {},
   "source": [
    "Convertir fecha a timestamp int64"
   ]
  },
  {
   "cell_type": "code",
   "execution_count": 18,
   "metadata": {},
   "outputs": [
    {
     "name": "stdout",
     "output_type": "stream",
     "text": [
      "\n",
      "Tipo de datos de la columna date después de la conversión:\n",
      "int64\n"
     ]
    }
   ],
   "source": [
    "\n",
    "# Convertir la fecha a formato mes (MM) y asegurar tipo int64\n",
    "sales_cleaned['date'] = pd.to_datetime(sales_cleaned['date'])\n",
    "sales_cleaned['date'] = sales_cleaned['date'].dt.month.astype('int64')\n",
    "\n",
    "# Verificar el cambio de date\n",
    "print(\"\\nTipo de datos de la columna date después de la conversión:\")\n",
    "print(sales_cleaned['date'].dtype)"
   ]
  },
  {
   "cell_type": "markdown",
   "metadata": {},
   "source": [
    "Convertir state_holiday a int64"
   ]
  },
  {
   "cell_type": "code",
   "execution_count": 19,
   "metadata": {},
   "outputs": [
    {
     "name": "stdout",
     "output_type": "stream",
     "text": [
      "\n",
      "Tipo de datos de state_holiday después de la conversión:\n",
      "int64\n",
      "\n",
      "Valores únicos en state_holiday:\n",
      "state_holiday\n",
      "0    621160\n",
      "1     19680\n",
      "Name: count, dtype: int64\n",
      "\n",
      "Información actualizada del DataFrame:\n",
      "<class 'pandas.core.frame.DataFrame'>\n",
      "Index: 640840 entries, 425390 to 305711\n",
      "Data columns (total 9 columns):\n",
      " #   Column               Non-Null Count   Dtype\n",
      "---  ------               --------------   -----\n",
      " 0   store_ID             640840 non-null  int64\n",
      " 1   day_of_week          640840 non-null  int64\n",
      " 2   date                 640840 non-null  int64\n",
      " 3   nb_customers_on_day  640840 non-null  int64\n",
      " 4   open                 640840 non-null  int64\n",
      " 5   promotion            640840 non-null  int64\n",
      " 6   state_holiday        640840 non-null  int64\n",
      " 7   school_holiday       640840 non-null  int64\n",
      " 8   sales                640840 non-null  int64\n",
      "dtypes: int64(9)\n",
      "memory usage: 48.9 MB\n",
      "None\n"
     ]
    }
   ],
   "source": [
    "# Cambiar los valores de state_holiday\n",
    "good_state_holiday = {\n",
    "    '0': 0,  \n",
    "    'a': 1,\n",
    "    'b': 1,\n",
    "    'c': 1\n",
    "}\n",
    "\n",
    "# Convertir state_holiday a números y asegurar tipo int64\n",
    "sales_cleaned['state_holiday'] = sales_cleaned['state_holiday'].map(good_state_holiday).astype('int64')\n",
    "\n",
    "# Verificar los cambios\n",
    "print(\"\\nTipo de datos de state_holiday después de la conversión:\")\n",
    "print(sales_cleaned['state_holiday'].dtype)\n",
    "\n",
    "print(\"\\nValores únicos en state_holiday:\")\n",
    "print(sales_cleaned['state_holiday'].value_counts())\n",
    "\n",
    "print(\"\\nInformación actualizada del DataFrame:\")\n",
    "print(sales_cleaned.info())\n",
    "\n"
   ]
  },
  {
   "cell_type": "markdown",
   "metadata": {},
   "source": [
    "Dividir datos para modelado"
   ]
  },
  {
   "cell_type": "code",
   "execution_count": 20,
   "metadata": {},
   "outputs": [],
   "source": [
    "# Challenge 5 - Modelado y Predicción \n",
    "# Preparar variables para predecir 'sales'\n",
    "X = sales_cleaned.drop(['sales'], axis=1)  # Quitamos la columna objetivo\n",
    "y = sales_cleaned['sales']  # Variable objetivo\n",
    "\n",
    "# Dividir datos\n",
    "X_train, X_test, y_train, y_test = train_test_split(X, y, test_size=0.2, random_state=42)"
   ]
  },
  {
   "cell_type": "markdown",
   "metadata": {},
   "source": [
    "LINEAR REGRESSION"
   ]
  },
  {
   "cell_type": "code",
   "execution_count": 21,
   "metadata": {},
   "outputs": [
    {
     "name": "stdout",
     "output_type": "stream",
     "text": [
      "=== Resultados del Modelo de Regresión Lineal ===\n",
      "\n",
      "\n",
      "=== Métricas de Evaluación ===\n",
      "R² Entrenamiento: 0.8541\n",
      "R² Prueba: 0.8515\n",
      "MSE Entrenamiento: 2165251.3216\n",
      "MSE Prueba: 2195060.5697\n"
     ]
    }
   ],
   "source": [
    "# Importar bibliotecas necesarias\n",
    "\n",
    "\n",
    "# Crear y entrenar el modelo de regresión lineal\n",
    "modelo = LinearRegression()\n",
    "modelo.fit(X_train, y_train)\n",
    "\n",
    "# Generar predicciones para entrenamiento y prueba\n",
    "y_pred_train = modelo.predict(X_train)\n",
    "y_pred_test = modelo.predict(X_test)\n",
    "\n",
    "# Calcular métricas de evaluación\n",
    "metricas = {\n",
    "    'R² Entrenamiento': r2_score(y_train, y_pred_train),\n",
    "    'R² Prueba': r2_score(y_test, y_pred_test),\n",
    "    'MSE Entrenamiento': mean_squared_error(y_train, y_pred_train),\n",
    "    'MSE Prueba': mean_squared_error(y_test, y_pred_test),\n",
    "}\n",
    "\n",
    "# Imprimir resultados\n",
    "print(\"=== Resultados del Modelo de Regresión Lineal ===\\n\")\n",
    "\n",
    "print(\"\\n=== Métricas de Evaluación ===\")\n",
    "for metrica, valor in metricas.items():\n",
    "    print(f\"{metrica}: {valor:.4f}\")\n"
   ]
  },
  {
   "cell_type": "markdown",
   "metadata": {},
   "source": [
    "XGBOOST\n"
   ]
  },
  {
   "cell_type": "code",
   "execution_count": 22,
   "metadata": {},
   "outputs": [
    {
     "name": "stdout",
     "output_type": "stream",
     "text": [
      "\n",
      "=== Análisis de Importancia de Features con XGBoost ===\n",
      "\n",
      "--- XGBoost ---\n",
      "\n",
      "Resultados XGBoost:\n",
      "R2 Score Train: 0.9691\n",
      "R2 Score Test: 0.9412\n",
      "MSE: 869451.6926\n"
     ]
    }
   ],
   "source": [
    "# Importar las librerías necesarias\n",
    "print(\"\\n=== Análisis de Importancia de Features con XGBoost ===\")\n",
    "\n",
    "# XGBoost\n",
    "print(\"\\n--- XGBoost ---\")\n",
    "# Definir parámetros de XGBoost para regresión\n",
    "params_xgb = {\n",
    "    'n_estimators': 100,\n",
    "    'learning_rate': 0.1,\n",
    "    'max_depth': 15,\n",
    "    'random_state': 42\n",
    "}\n",
    "\n",
    "# Instanciar y entrenar modelo XGBoost\n",
    "model_xgb = xgb.XGBRegressor(**params_xgb)\n",
    "model_xgb.fit(X_train, y_train)\n",
    "\n",
    "# Hacer predicciones para train y test\n",
    "y_pred_train_xgb = model_xgb.predict(X_train)\n",
    "y_pred_test_xgb = model_xgb.predict(X_test)\n",
    "\n",
    "# Evaluar modelo\n",
    "print(\"\\nResultados XGBoost:\")\n",
    "print(f\"R2 Score Train: {r2_score(y_train, y_pred_train_xgb):.4f}\")\n",
    "print(f\"R2 Score Test: {r2_score(y_test, y_pred_test_xgb):.4f}\")\n",
    "print(f\"MSE: {mean_squared_error(y_test, y_pred_test_xgb):.4f}\")\n"
   ]
  },
  {
   "cell_type": "markdown",
   "metadata": {},
   "source": [
    "Random Forest"
   ]
  },
  {
   "cell_type": "code",
   "execution_count": 23,
   "metadata": {},
   "outputs": [
    {
     "name": "stdout",
     "output_type": "stream",
     "text": [
      "\n",
      "--- Random Forest ---\n",
      "\n",
      "Resultados Random Forest:\n",
      "R2 Score Train: 0.8176\n",
      "R2 Score Test: 0.8183\n",
      "MSE: 2686211.6161\n"
     ]
    }
   ],
   "source": [
    "\n",
    "# Random Forest\n",
    "print(\"\\n--- Random Forest ---\")\n",
    "# Definir parámetros de Random Forest\n",
    "params_rf = {\n",
    "    'n_estimators': 100,\n",
    "    'max_depth': 3,\n",
    "    'random_state': 42\n",
    "}\n",
    "\n",
    "# Instanciar y entrenar modelo Random Forest\n",
    "model_rf = RandomForestRegressor(**params_rf)\n",
    "model_rf.fit(X_train, y_train)\n",
    "\n",
    "# Hacer predicciones para train y test\n",
    "y_pred_train_rf = model_rf.predict(X_train)\n",
    "y_pred_rf = model_rf.predict(X_test)\n",
    "\n",
    "# Evaluar modelo\n",
    "print(\"\\nResultados Random Forest:\")\n",
    "print(f\"R2 Score Train: {r2_score(y_train, y_pred_train_rf):.4f}\")\n",
    "print(f\"R2 Score Test: {r2_score(y_test, y_pred_rf):.4f}\")\n",
    "print(f\"MSE: {mean_squared_error(y_test, y_pred_rf):.4f}\")\n"
   ]
  },
  {
   "cell_type": "code",
   "execution_count": 24,
   "metadata": {},
   "outputs": [
    {
     "name": "stdout",
     "output_type": "stream",
     "text": [
      "Primeras 5 predicciones de ventas:\n",
      "        store_ID  date        sales\n",
      "index                              \n",
      "272371       415     3     1.727449\n",
      "558468        27    12     0.065632\n",
      "76950        404     3  6279.857422\n",
      "77556        683     1  7304.285645\n",
      "456344       920     3  6020.546875\n"
     ]
    }
   ],
   "source": [
    "# Cargar REAL_DATA\n",
    "real_data = pd.read_csv('../data/REAL_DATA.csv', index_col=0)\n",
    "\n",
    "# Preparar los datos de REAL_DATA usando las mismas transformaciones que el modelo original\n",
    "# Convertir date a mes\n",
    "real_data['date'] = pd.to_datetime(real_data['date'], format='%d/%m/%Y')\n",
    "real_data['date'] = real_data['date'].dt.month.astype('int64')\n",
    "\n",
    "# Convertir state_holiday a números\n",
    "state_holiday_map = {\n",
    "    '0': 0,  \n",
    "    'a': 1,\n",
    "    'b': 1,\n",
    "    'c': 1\n",
    "}\n",
    "real_data['state_holiday'] = real_data['state_holiday'].map(state_holiday_map).astype('int64')\n",
    "\n",
    "# Usar el modelo XGBoost entrenado para hacer predicciones\n",
    "X_real = real_data[X.columns]  # Usar las mismas columnas que el modelo original\n",
    "predictions = model_xgb.predict(X_real)\n",
    "\n",
    "# Agregar predicciones al dataframe\n",
    "real_data['sales'] = predictions\n",
    "\n",
    "# Guardar resultados\n",
    "real_data.to_csv('../data/G2.csv')\n",
    "\n",
    "# Mostrar las primeras predicciones\n",
    "print(\"Primeras 5 predicciones de ventas:\")\n",
    "print(real_data[['store_ID', 'date', 'sales']].head())"
   ]
  }
 ],
 "metadata": {
  "kernelspec": {
   "display_name": "Python 3",
   "language": "python",
   "name": "python3"
  },
  "language_info": {
   "codemirror_mode": {
    "name": "ipython",
    "version": 3
   },
   "file_extension": ".py",
   "mimetype": "text/x-python",
   "name": "python",
   "nbconvert_exporter": "python",
   "pygments_lexer": "ipython3",
   "version": "3.9.20"
  }
 },
 "nbformat": 4,
 "nbformat_minor": 2
}
